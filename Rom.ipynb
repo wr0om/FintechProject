{
 "cells": [
  {
   "cell_type": "code",
   "execution_count": 1,
   "metadata": {},
   "outputs": [
    {
     "name": "stdout",
     "output_type": "stream",
     "text": [
      "Requirement already satisfied: momentfm in c:\\users\\rom\\anaconda3\\envs\\ml2\\lib\\site-packages (0.1.1)\n",
      "Requirement already satisfied: huggingface-hub==0.19.4 in c:\\users\\rom\\anaconda3\\envs\\ml2\\lib\\site-packages (from momentfm) (0.19.4)\n",
      "Requirement already satisfied: numpy==1.25.2 in c:\\users\\rom\\anaconda3\\envs\\ml2\\lib\\site-packages (from momentfm) (1.25.2)\n",
      "Requirement already satisfied: torch~=2.0 in c:\\users\\rom\\anaconda3\\envs\\ml2\\lib\\site-packages (from momentfm) (2.2.1)\n",
      "Requirement already satisfied: transformers==4.33.3 in c:\\users\\rom\\anaconda3\\envs\\ml2\\lib\\site-packages (from momentfm) (4.33.3)\n",
      "Requirement already satisfied: filelock in c:\\users\\rom\\anaconda3\\envs\\ml2\\lib\\site-packages (from huggingface-hub==0.19.4->momentfm) (3.13.1)\n",
      "Requirement already satisfied: fsspec>=2023.5.0 in c:\\users\\rom\\anaconda3\\envs\\ml2\\lib\\site-packages (from huggingface-hub==0.19.4->momentfm) (2023.10.0)\n",
      "Requirement already satisfied: requests in c:\\users\\rom\\anaconda3\\envs\\ml2\\lib\\site-packages (from huggingface-hub==0.19.4->momentfm) (2.31.0)\n",
      "Requirement already satisfied: tqdm>=4.42.1 in c:\\users\\rom\\anaconda3\\envs\\ml2\\lib\\site-packages (from huggingface-hub==0.19.4->momentfm) (4.65.0)\n",
      "Requirement already satisfied: pyyaml>=5.1 in c:\\users\\rom\\anaconda3\\envs\\ml2\\lib\\site-packages (from huggingface-hub==0.19.4->momentfm) (6.0.1)\n",
      "Requirement already satisfied: typing-extensions>=3.7.4.3 in c:\\users\\rom\\anaconda3\\envs\\ml2\\lib\\site-packages (from huggingface-hub==0.19.4->momentfm) (4.9.0)\n",
      "Requirement already satisfied: packaging>=20.9 in c:\\users\\rom\\anaconda3\\envs\\ml2\\lib\\site-packages (from huggingface-hub==0.19.4->momentfm) (23.2)\n",
      "Requirement already satisfied: regex!=2019.12.17 in c:\\users\\rom\\anaconda3\\envs\\ml2\\lib\\site-packages (from transformers==4.33.3->momentfm) (2024.5.15)\n",
      "Requirement already satisfied: tokenizers!=0.11.3,<0.14,>=0.11.1 in c:\\users\\rom\\anaconda3\\envs\\ml2\\lib\\site-packages (from transformers==4.33.3->momentfm) (0.13.3)\n",
      "Requirement already satisfied: safetensors>=0.3.1 in c:\\users\\rom\\anaconda3\\envs\\ml2\\lib\\site-packages (from transformers==4.33.3->momentfm) (0.4.3)\n",
      "Requirement already satisfied: sympy in c:\\users\\rom\\anaconda3\\envs\\ml2\\lib\\site-packages (from torch~=2.0->momentfm) (1.12)\n",
      "Requirement already satisfied: networkx in c:\\users\\rom\\anaconda3\\envs\\ml2\\lib\\site-packages (from torch~=2.0->momentfm) (3.1)\n",
      "Requirement already satisfied: jinja2 in c:\\users\\rom\\anaconda3\\envs\\ml2\\lib\\site-packages (from torch~=2.0->momentfm) (3.1.3)\n",
      "Requirement already satisfied: colorama in c:\\users\\rom\\anaconda3\\envs\\ml2\\lib\\site-packages (from tqdm>=4.42.1->huggingface-hub==0.19.4->momentfm) (0.4.6)\n",
      "Requirement already satisfied: MarkupSafe>=2.0 in c:\\users\\rom\\anaconda3\\envs\\ml2\\lib\\site-packages (from jinja2->torch~=2.0->momentfm) (2.1.3)\n",
      "Requirement already satisfied: charset-normalizer<4,>=2 in c:\\users\\rom\\anaconda3\\envs\\ml2\\lib\\site-packages (from requests->huggingface-hub==0.19.4->momentfm) (2.0.4)\n",
      "Requirement already satisfied: idna<4,>=2.5 in c:\\users\\rom\\anaconda3\\envs\\ml2\\lib\\site-packages (from requests->huggingface-hub==0.19.4->momentfm) (3.4)\n",
      "Requirement already satisfied: urllib3<3,>=1.21.1 in c:\\users\\rom\\anaconda3\\envs\\ml2\\lib\\site-packages (from requests->huggingface-hub==0.19.4->momentfm) (2.1.0)\n",
      "Requirement already satisfied: certifi>=2017.4.17 in c:\\users\\rom\\anaconda3\\envs\\ml2\\lib\\site-packages (from requests->huggingface-hub==0.19.4->momentfm) (2024.2.2)\n",
      "Requirement already satisfied: mpmath>=0.19 in c:\\users\\rom\\anaconda3\\envs\\ml2\\lib\\site-packages (from sympy->torch~=2.0->momentfm) (1.3.0)\n"
     ]
    }
   ],
   "source": [
    "!pip install momentfm"
   ]
  },
  {
   "cell_type": "code",
   "execution_count": 11,
   "metadata": {},
   "outputs": [],
   "source": [
    "import pandas as pd\n",
    "import numpy as np\n",
    "import matplotlib.pyplot as plt\n",
    "from momentfm import MOMENTPipeline\n",
    "from pprint import pprint\n",
    "import torch\n",
    "from torch.utils.data import Dataset, DataLoader\n",
    "import torch.cuda.amp\n",
    "from torch.utils.data import DataLoader\n",
    "from torch.optim.lr_scheduler import OneCycleLR\n",
    "from tqdm import tqdm\n",
    "from momentfm.utils.utils import control_randomness\n",
    "from momentfm.data.informer_dataset import InformerDataset\n",
    "from momentfm.utils.forecasting_metrics import get_forecasting_metrics\n",
    "import warnings\n",
    "warnings.filterwarnings('ignore')\n",
    "# Set random seeds for PyTorch, Numpy etc.\n",
    "control_randomness(seed=13) "
   ]
  },
  {
   "cell_type": "code",
   "execution_count": 3,
   "metadata": {},
   "outputs": [],
   "source": [
    "df = pd.read_csv('data_final/combined_data.csv')\n",
    "train_df = df[df['set'] == 'train']\n",
    "train_df.drop(columns=['set'], inplace=True)\n",
    "test_df = df[df['set'] == 'test']\n",
    "test_df.drop(columns=['set'], inplace=True)"
   ]
  },
  {
   "cell_type": "code",
   "execution_count": 4,
   "metadata": {},
   "outputs": [],
   "source": [
    "train_df_no_date = train_df.drop(columns=['Date'])\n",
    "test_df_no_date = test_df.drop(columns=['Date'])"
   ]
  },
  {
   "cell_type": "code",
   "execution_count": 5,
   "metadata": {},
   "outputs": [],
   "source": [
    "# create a train and test dataloader for forecasting H days ahead\n",
    "H = 21\n",
    "class TimeSeriesDataset(Dataset):\n",
    "    def __init__(self, timeseries, H, fixed_length=512):\n",
    "        self.timeseries = timeseries\n",
    "        self.H = H\n",
    "        self.fixed_length = fixed_length\n",
    "\n",
    "        if len(self.timeseries.shape) == 1:\n",
    "            # If the time series shape [n], reshape it to [1, n]\n",
    "            self.timeseries = self.timeseries.reshape(1, -1)\n",
    "                    \n",
    "    def __len__(self):\n",
    "        # Ensure that we don't go out of bounds\n",
    "        return self.timeseries.shape[0] - self.H\n",
    "\n",
    "    def __getitem__(self, idx):\n",
    "        # Input: time series from the start up to idx+1\n",
    "        start_idx = max(0, idx + 1 - self.fixed_length)\n",
    "        input_series = self.timeseries[start_idx:idx + 1]\n",
    "        \n",
    "        # Padding: pad input_series to fixed_length with zeros on the left\n",
    "        pad_len = self.fixed_length - input_series.shape[0]\n",
    "        input_series = np.pad(input_series, ((pad_len, 0), (0, 0)), mode='constant')\n",
    "        # input_series is [fixed_length, n_features], I need it in [n_features, fixed_length]\n",
    "        input_series = input_series.T\n",
    "        \n",
    "        # Mask: 1s for the values we have, 0s for the values we don't have\n",
    "        mask = np.ones(self.fixed_length)\n",
    "        mask[:pad_len] = 0\n",
    "        \n",
    "        # Label: next H values after idx\n",
    "        label = self.timeseries[idx + 1: idx + 1 + self.H]\n",
    "        label = np.array(label).T\n",
    "        \n",
    "        return torch.tensor(input_series, dtype=torch.float32), torch.tensor(label, dtype=torch.float32), torch.tensor(mask, dtype=torch.float32)"
   ]
  },
  {
   "cell_type": "code",
   "execution_count": 6,
   "metadata": {},
   "outputs": [],
   "source": [
    "train_dataset = TimeSeriesDataset(train_df_no_date, H)\n",
    "train_loader = DataLoader(train_dataset, batch_size=8, shuffle=True)\n",
    "\n",
    "test_dataset = TimeSeriesDataset(test_df_no_date, H)\n",
    "test_loader = DataLoader(test_dataset, batch_size=8, shuffle=False)"
   ]
  },
  {
   "cell_type": "code",
   "execution_count": 7,
   "metadata": {},
   "outputs": [
    {
     "name": "stdout",
     "output_type": "stream",
     "text": [
      "values: torch.Size([8, 6, 512])\n"
     ]
    }
   ],
   "source": [
    "for values in train_loader:\n",
    "    print(f'values: {values[0].shape}')\n",
    "    break"
   ]
  },
  {
   "cell_type": "markdown",
   "metadata": {},
   "source": [
    "# MOMENT"
   ]
  },
  {
   "cell_type": "code",
   "execution_count": 8,
   "metadata": {},
   "outputs": [],
   "source": [
    "model = MOMENTPipeline.from_pretrained(\n",
    "    \"AutonLab/MOMENT-1-large\", \n",
    "    model_kwargs={\n",
    "        'task_name': 'forecasting',\n",
    "        'forecast_horizon': H,\n",
    "        'head_dropout': 0.1,\n",
    "        'weight_decay': 0,\n",
    "        'freeze_encoder': True, # Freeze the patch embedding layer\n",
    "        'freeze_embedder': True, # Freeze the transformer encoder\n",
    "        'freeze_head': False, # The linear forecasting head must be trained\n",
    "    },\n",
    "    # local_files_only=True,  # Whether or not to only look at local files (i.e., do not try to download the model).\n",
    ")"
   ]
  },
  {
   "cell_type": "code",
   "execution_count": 9,
   "metadata": {},
   "outputs": [
    {
     "name": "stdout",
     "output_type": "stream",
     "text": [
      "Unfrozen parameters:\n",
      "     head.linear.weight\n",
      "     head.linear.bias\n"
     ]
    }
   ],
   "source": [
    "model.init()\n",
    "print(\"Unfrozen parameters:\")\n",
    "for name, param in model.named_parameters():    \n",
    "    if param.requires_grad:\n",
    "        print('    ', name)"
   ]
  },
  {
   "cell_type": "markdown",
   "metadata": {},
   "source": [
    "## Fine-tuning the model using the training data"
   ]
  },
  {
   "cell_type": "code",
   "execution_count": 10,
   "metadata": {},
   "outputs": [
    {
     "name": "stderr",
     "output_type": "stream",
     "text": [
      "100%|██████████| 156/156 [13:50<00:00,  5.32s/it]\n"
     ]
    },
    {
     "name": "stdout",
     "output_type": "stream",
     "text": [
      "Epoch 0: Train loss: 1527455.212\n"
     ]
    },
    {
     "name": "stderr",
     "output_type": "stream",
     "text": [
      "100%|██████████| 103/103 [09:28<00:00,  5.52s/it]"
     ]
    },
    {
     "name": "stdout",
     "output_type": "stream",
     "text": [
      "Epoch 1: Test MSE: 2483310.500 | Test MAE: 608.405\n"
     ]
    },
    {
     "name": "stderr",
     "output_type": "stream",
     "text": [
      "\n"
     ]
    }
   ],
   "source": [
    "criterion = torch.nn.MSELoss()\n",
    "optimizer = torch.optim.Adam(model.parameters(), lr=1e-4)\n",
    "\n",
    "device = torch.device(\"cuda\" if torch.cuda.is_available() else \"cpu\")\n",
    "\n",
    "cur_epoch = 0\n",
    "max_epoch = 10\n",
    "\n",
    "# Move the model to the GPU\n",
    "model = model.to(device)\n",
    "\n",
    "# Move the loss function to the GPU\n",
    "criterion = criterion.to(device)\n",
    "\n",
    "# Enable mixed precision training\n",
    "scaler = torch.cuda.amp.GradScaler()\n",
    "\n",
    "# Create a OneCycleLR scheduler\n",
    "max_lr = 1e-4\n",
    "total_steps = len(train_loader) * max_epoch\n",
    "scheduler = OneCycleLR(optimizer, max_lr=max_lr, total_steps=total_steps, pct_start=0.3)\n",
    "\n",
    "# Gradient clipping value\n",
    "max_norm = 5.0\n",
    "\n",
    "while cur_epoch < max_epoch:\n",
    "    losses = []\n",
    "    for timeseries, forecast, input_mask in tqdm(train_loader, total=len(train_loader)):\n",
    "        # Move the data to the GPU\n",
    "        timeseries = timeseries.float().to(device)\n",
    "        input_mask = input_mask.to(device)\n",
    "        forecast = forecast.float().to(device)\n",
    "\n",
    "        with torch.cuda.amp.autocast():\n",
    "            output = model(timeseries, input_mask)\n",
    "        \n",
    "        loss = criterion(output.forecast, forecast)\n",
    "\n",
    "        # Scales the loss for mixed precision training\n",
    "        scaler.scale(loss).backward()\n",
    "\n",
    "        # Clip gradients\n",
    "        scaler.unscale_(optimizer)\n",
    "        torch.nn.utils.clip_grad_norm_(model.parameters(), max_norm)\n",
    "\n",
    "        scaler.step(optimizer)\n",
    "        scaler.update()\n",
    "        optimizer.zero_grad(set_to_none=True)\n",
    "\n",
    "        losses.append(loss.item())\n",
    "\n",
    "    losses = np.array(losses)\n",
    "    average_loss = np.average(losses)\n",
    "    print(f\"Epoch {cur_epoch}: Train loss: {average_loss:.3f}\")\n",
    "\n",
    "    # Step the learning rate scheduler\n",
    "    scheduler.step()\n",
    "    cur_epoch += 1\n",
    "    \n",
    "    # Evaluate the model on the test split\n",
    "    trues, preds, histories, losses = [], [], [], []\n",
    "    model.eval()\n",
    "    with torch.no_grad():\n",
    "        for timeseries, forecast, input_mask in tqdm(test_loader, total=len(test_loader)):\n",
    "        # Move the data to the GPU\n",
    "            timeseries = timeseries.float().to(device)\n",
    "            input_mask = input_mask.to(device)\n",
    "            forecast = forecast.float().to(device)\n",
    "\n",
    "            with torch.cuda.amp.autocast():\n",
    "                output = model(timeseries, input_mask)\n",
    "            \n",
    "            loss = criterion(output.forecast, forecast)                \n",
    "            losses.append(loss.item())\n",
    "\n",
    "            trues.append(forecast.detach().cpu().numpy())\n",
    "            preds.append(output.forecast.detach().cpu().numpy())\n",
    "            histories.append(timeseries.detach().cpu().numpy())\n",
    "    \n",
    "    losses = np.array(losses)\n",
    "    average_loss = np.average(losses)\n",
    "    model.train()\n",
    "\n",
    "    trues = np.concatenate(trues, axis=0)\n",
    "    preds = np.concatenate(preds, axis=0)\n",
    "    histories = np.concatenate(histories, axis=0)\n",
    "    \n",
    "    metrics = get_forecasting_metrics(y=trues, y_hat=preds, reduction='mean')\n",
    "\n",
    "    print(f\"Epoch {cur_epoch}: Test MSE: {metrics.mse:.3f} | Test MAE: {metrics.mae:.3f}\")"
   ]
  },
  {
   "cell_type": "markdown",
   "metadata": {},
   "source": [
    "## Visualizing the model's predictions"
   ]
  },
  {
   "cell_type": "code",
   "execution_count": 28,
   "metadata": {},
   "outputs": [
    {
     "data": {
      "image/png": "[encoded data removed]",
      "text/plain": [
       "<Figure size 1200x400 with 1 Axes>"
      ]
     },
     "metadata": {},
     "output_type": "display_data"
    }
   ],
   "source": [
    "# Assuming histories, trues, and preds are your lists containing the data\n",
    "# Extracting the first data point\n",
    "\n",
    "channel_idx = 0\n",
    "time_index = np.random.randint(0, trues.shape[0]) \n",
    "\n",
    "history = histories[time_index, channel_idx, :] \n",
    "true = trues[time_index, channel_idx, :]\n",
    "pred = preds[time_index, channel_idx, :]\n",
    "\n",
    "plt.figure(figsize=(12, 4))\n",
    "\n",
    "# Plotting the first time series from history\n",
    "plt.plot(range(len(history)), history, label='History (512 timesteps)', c='darkblue')\n",
    "\n",
    "# Plotting ground truth and prediction\n",
    "num_forecasts = len(true)\n",
    "\n",
    "offset = len(history)\n",
    "plt.plot(range(offset, offset + len(true)), true, label='Ground Truth (21 timesteps)', color='darkblue', linestyle='--', alpha=0.5)\n",
    "plt.plot(range(offset, offset + len(pred)), pred, label='Forecast (21 timesteps)', color='red', linestyle='--')\n",
    "\n",
    "plt.title(f\"Close Price (Daily) -- (idx={time_index})\", fontsize=18)\n",
    "plt.xlabel('Time', fontsize=14)\n",
    "plt.ylabel('Value', fontsize=14)\n",
    "plt.legend(fontsize=14)\n",
    "plt.show()"
   ]
  },
  {
   "cell_type": "markdown",
   "metadata": {},
   "source": [
    "## Summary"
   ]
  },
  {
   "cell_type": "markdown",
   "metadata": {},
   "source": [
    "As this model needs to be pretrained, and our training data is small, it did not succeed in predicting the test data with horizon $H=21$. We assume similar results for other horizon values."
   ]
  },
  {
   "cell_type": "markdown",
   "metadata": {},
   "source": [
    "# LSTM"
   ]
  }
 ],
 "metadata": {
  "kernelspec": {
   "display_name": "ML2",
   "language": "python",
   "name": "python3"
  },
  "language_info": {
   "codemirror_mode": {
    "name": "ipython",
    "version": 3
   },
   "file_extension": ".py",
   "mimetype": "text/x-python",
   "name": "python",
   "nbconvert_exporter": "python",
   "pygments_lexer": "ipython3",
   "version": "3.11.7"
  }
 },
 "nbformat": 4,
 "nbformat_minor": 2
}
